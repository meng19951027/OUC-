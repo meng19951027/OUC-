{
  "cells": [
    {
      "cell_type": "markdown",
      "metadata": {
        "id": "view-in-github",
        "colab_type": "text"
      },
      "source": [
        "<a href=\"https://colab.research.google.com/github/meng19951027/OUC-/blob/main/SLSM_based_on_random_selection_of_non_landslide_points.ipynb\" target=\"_parent\"><img src=\"https://colab.research.google.com/assets/colab-badge.svg\" alt=\"Open In Colab\"/></a>"
      ]
    },
    {
      "cell_type": "markdown",
      "id": "2b8d90f4-b2d9-43bc-a4a9-9e8ac42938f3",
      "metadata": {
        "jp-MarkdownHeadingCollapsed": true,
        "id": "2b8d90f4-b2d9-43bc-a4a9-9e8ac42938f3"
      },
      "source": [
        "# Import necessary library"
      ]
    },
    {
      "cell_type": "code",
      "execution_count": null,
      "id": "a1fc1ff7",
      "metadata": {
        "tags": [],
        "id": "a1fc1ff7"
      },
      "outputs": [],
      "source": [
        "import matplotlib.pyplot as plt\n",
        "import seaborn as sns\n",
        "import numpy as np\n",
        "import rasterio\n",
        "from matplotlib import cm,colors\n",
        "from rasterio.plot import show\n",
        "import pandas as pd\n",
        "sns.set(font= \"Times new roman\",style=\"ticks\",font_scale=1.2,rc={\"font.size\":10})\n",
        "import warnings\n",
        "warnings.filterwarnings(\"ignore\")"
      ]
    },
    {
      "cell_type": "code",
      "execution_count": null,
      "id": "dae43020",
      "metadata": {
        "id": "dae43020",
        "outputId": "05e22d3e-9212-465d-a17b-28267e40d7b4"
      },
      "outputs": [
        {
          "data": {
            "text/html": [
              "<div>\n",
              "<style scoped>\n",
              "    .dataframe tbody tr th:only-of-type {\n",
              "        vertical-align: middle;\n",
              "    }\n",
              "\n",
              "    .dataframe tbody tr th {\n",
              "        vertical-align: top;\n",
              "    }\n",
              "\n",
              "    .dataframe thead th {\n",
              "        text-align: right;\n",
              "    }\n",
              "</style>\n",
              "<table border=\"1\" class=\"dataframe\">\n",
              "  <thead>\n",
              "    <tr style=\"text-align: right;\">\n",
              "      <th></th>\n",
              "      <th>Rebathymeter</th>\n",
              "      <th>Recurvatue</th>\n",
              "      <th>Refault</th>\n",
              "      <th>Repipeline</th>\n",
              "      <th>Resediment</th>\n",
              "      <th>Resesimic</th>\n",
              "      <th>Reslope</th>\n",
              "      <th>Revessel</th>\n",
              "      <th>Revolcano</th>\n",
              "      <th>class</th>\n",
              "    </tr>\n",
              "  </thead>\n",
              "  <tbody>\n",
              "    <tr>\n",
              "      <th>0</th>\n",
              "      <td>3</td>\n",
              "      <td>2</td>\n",
              "      <td>8</td>\n",
              "      <td>2</td>\n",
              "      <td>2</td>\n",
              "      <td>1</td>\n",
              "      <td>5</td>\n",
              "      <td>1</td>\n",
              "      <td>8</td>\n",
              "      <td>1</td>\n",
              "    </tr>\n",
              "    <tr>\n",
              "      <th>1</th>\n",
              "      <td>4</td>\n",
              "      <td>2</td>\n",
              "      <td>8</td>\n",
              "      <td>2</td>\n",
              "      <td>2</td>\n",
              "      <td>1</td>\n",
              "      <td>1</td>\n",
              "      <td>1</td>\n",
              "      <td>8</td>\n",
              "      <td>1</td>\n",
              "    </tr>\n",
              "    <tr>\n",
              "      <th>2</th>\n",
              "      <td>2</td>\n",
              "      <td>2</td>\n",
              "      <td>8</td>\n",
              "      <td>2</td>\n",
              "      <td>2</td>\n",
              "      <td>1</td>\n",
              "      <td>4</td>\n",
              "      <td>1</td>\n",
              "      <td>8</td>\n",
              "      <td>1</td>\n",
              "    </tr>\n",
              "    <tr>\n",
              "      <th>3</th>\n",
              "      <td>2</td>\n",
              "      <td>2</td>\n",
              "      <td>8</td>\n",
              "      <td>2</td>\n",
              "      <td>2</td>\n",
              "      <td>1</td>\n",
              "      <td>1</td>\n",
              "      <td>1</td>\n",
              "      <td>8</td>\n",
              "      <td>1</td>\n",
              "    </tr>\n",
              "    <tr>\n",
              "      <th>4</th>\n",
              "      <td>2</td>\n",
              "      <td>1</td>\n",
              "      <td>8</td>\n",
              "      <td>2</td>\n",
              "      <td>2</td>\n",
              "      <td>2</td>\n",
              "      <td>7</td>\n",
              "      <td>1</td>\n",
              "      <td>8</td>\n",
              "      <td>1</td>\n",
              "    </tr>\n",
              "  </tbody>\n",
              "</table>\n",
              "</div>"
            ],
            "text/plain": [
              "   Rebathymeter  Recurvatue  Refault  Repipeline  Resediment  Resesimic  \\\n",
              "0             3           2        8           2           2          1   \n",
              "1             4           2        8           2           2          1   \n",
              "2             2           2        8           2           2          1   \n",
              "3             2           2        8           2           2          1   \n",
              "4             2           1        8           2           2          2   \n",
              "\n",
              "   Reslope  Revessel  Revolcano  class  \n",
              "0        5         1          8      1  \n",
              "1        1         1          8      1  \n",
              "2        4         1          8      1  \n",
              "3        1         1          8      1  \n",
              "4        7         1          8      1  "
            ]
          },
          "metadata": {},
          "output_type": "display_data"
        }
      ],
      "source": [
        "landslide_nolandslide=pd.read_excel(r'ML_dataset_random.xlsx',sheet_name=0)\n",
        "display(landslide_nolandslide.head())"
      ]
    },
    {
      "cell_type": "markdown",
      "id": "38575c39-57ec-4c4b-814e-62054ae4dfa4",
      "metadata": {
        "jp-MarkdownHeadingCollapsed": true,
        "id": "38575c39-57ec-4c4b-814e-62054ae4dfa4"
      },
      "source": [
        "#  Divide training and test set"
      ]
    },
    {
      "cell_type": "code",
      "execution_count": null,
      "id": "37311eb2",
      "metadata": {
        "tags": [],
        "id": "37311eb2",
        "outputId": "8fbcb7a6-ccc4-4887-8cf3-00729579b188"
      },
      "outputs": [
        {
          "name": "stdout",
          "output_type": "stream",
          "text": [
            "      Rebathymeter  Recurvatue  Repipeline  Resediment  Resesimic  Reslope  \\\n",
            "0                3           2           2           2          1        5   \n",
            "1                2           2           2           2          1        4   \n",
            "2                2           2           2           2          1        1   \n",
            "3                2           1           2           2          2        7   \n",
            "4                4           3           2           2          2        7   \n",
            "...            ...         ...         ...         ...        ...      ...   \n",
            "2056             3           2           6           5          1        2   \n",
            "2057             4           2           5           5          1        1   \n",
            "2058             1           2           2           5          2        1   \n",
            "2059             4           2           1           5          1        3   \n",
            "2060             1           2           2           5          2        1   \n",
            "\n",
            "      Revolcano  \n",
            "0             8  \n",
            "1             8  \n",
            "2             8  \n",
            "3             8  \n",
            "4             8  \n",
            "...         ...  \n",
            "2056          8  \n",
            "2057          8  \n",
            "2058          8  \n",
            "2059          8  \n",
            "2060          8  \n",
            "\n",
            "[2061 rows x 7 columns]\n",
            "0       1\n",
            "1       1\n",
            "2       1\n",
            "3       1\n",
            "4       1\n",
            "       ..\n",
            "2056    0\n",
            "2057    0\n",
            "2058    0\n",
            "2059    0\n",
            "2060    0\n",
            "Name: class, Length: 2061, dtype: int64\n",
            "     Rebathymeter  Recurvatue  Repipeline  Resediment  Resesimic  Reslope  \\\n",
            "0               4           2           2           2          1        1   \n",
            "1               3           1           2           2          2        7   \n",
            "2               4           3           2           2          2        3   \n",
            "3               2           1           2           2          2        5   \n",
            "4               3           3           2           2          2        5   \n",
            "..            ...         ...         ...         ...        ...      ...   \n",
            "878             4           2           6           5          1        1   \n",
            "879             4           2           5           5          1        1   \n",
            "880             5           2           4           5          1        1   \n",
            "881             4           2           3           5          2        1   \n",
            "882             1           2           2           5          1        1   \n",
            "\n",
            "     Revolcano  \n",
            "0            8  \n",
            "1            8  \n",
            "2            8  \n",
            "3            8  \n",
            "4            8  \n",
            "..         ...  \n",
            "878          8  \n",
            "879          8  \n",
            "880          8  \n",
            "881          8  \n",
            "882          8  \n",
            "\n",
            "[883 rows x 7 columns]\n",
            "0      1\n",
            "1      1\n",
            "2      1\n",
            "3      1\n",
            "4      1\n",
            "      ..\n",
            "878    0\n",
            "879    0\n",
            "880    0\n",
            "881    0\n",
            "882    0\n",
            "Name: class, Length: 883, dtype: int64\n"
          ]
        }
      ],
      "source": [
        "data_train=pd.read_excel(r'ML-dataset.xlsx',sheet_name=0)\n",
        "data_selection=data_train.drop(['Refault','Revessel'],axis=1)\n",
        "xtrain=data_selection.iloc[:,:-1]\n",
        "ytrain=data_selection.iloc[:,-1]\n",
        "print(xtrain)\n",
        "print(ytrain)\n",
        "\n",
        "data_test=pd.read_excel(r'ML-dataset.xlsx',sheet_name=1)\n",
        "data_selection2=data_test.drop(['Refault','Revessel'],axis=1)\n",
        "xtest=data_selection2.iloc[:,:-1]\n",
        "ytest=data_selection2.iloc[:,-1]\n",
        "print(xtest)\n",
        "print(ytest)"
      ]
    },
    {
      "cell_type": "markdown",
      "id": "b463c6a4",
      "metadata": {
        "jp-MarkdownHeadingCollapsed": true,
        "id": "b463c6a4"
      },
      "source": [
        "# Model establishment and training"
      ]
    },
    {
      "cell_type": "markdown",
      "id": "41107f8d",
      "metadata": {
        "id": "41107f8d"
      },
      "source": [
        "## Logistic regression"
      ]
    },
    {
      "cell_type": "code",
      "execution_count": null,
      "id": "91120843",
      "metadata": {
        "tags": [],
        "id": "91120843",
        "outputId": "6371e5a3-8a4f-4c77-e987-5037c494ccf8"
      },
      "outputs": [
        {
          "name": "stdout",
          "output_type": "stream",
          "text": [
            "the best parameters : {'C': 0.001, 'penalty': 'l2'}\n",
            "0.8335759340126152\n",
            "0.8380520951302378\n"
          ]
        }
      ],
      "source": [
        "def LR(xtrain,ytrain):\n",
        "    from sklearn.linear_model import LogisticRegression\n",
        "\n",
        "    parameters_logistic = {'C': [0.001, 0.01, 0.1,1,10],\n",
        "                           'penalty': ['l1', 'l2'],\n",
        "                          }\n",
        "    from sklearn.model_selection import GridSearchCV\n",
        "    logistic_model_grid=LogisticRegression()\n",
        "    grid_model_logistic=GridSearchCV(logistic_model_grid,parameters_logistic,cv=10,n_jobs=-1)\n",
        "    grid_model_logistic.fit(xtrain,ytrain)\n",
        "    print('the best parameters : {}'.format(grid_model_logistic.best_params_))\n",
        "    para=grid_model_logistic.best_params_\n",
        "    best_model_lr=LogisticRegression(C=para['C'],\n",
        "                                     penalty=para['penalty'],\n",
        "                                    )\n",
        "    best_model_lr.fit(xtrain,ytrain)\n",
        "    return best_model_lr\n",
        "best_model_lr=LR(xtrain,ytrain)\n",
        "print(best_model_lr.score(xtrain,ytrain))\n",
        "print(best_model_lr.score(xtest,ytest))"
      ]
    },
    {
      "cell_type": "markdown",
      "id": "f241cb32-3d57-42e1-bdb4-96831fed54ee",
      "metadata": {
        "id": "f241cb32-3d57-42e1-bdb4-96831fed54ee"
      },
      "source": [
        "## Random forest"
      ]
    },
    {
      "cell_type": "code",
      "execution_count": null,
      "id": "2d06ed1f",
      "metadata": {
        "tags": [],
        "id": "2d06ed1f",
        "outputId": "ec3c40ad-795c-45a1-cf44-02b60419ff1a"
      },
      "outputs": [
        {
          "name": "stdout",
          "output_type": "stream",
          "text": [
            "{'max_depth': 6, 'n_estimators': 40}\n",
            "0.8641436196021349\n",
            "0.853907134767837\n"
          ]
        }
      ],
      "source": [
        "def RF(xtrain,ytrain):\n",
        "    from sklearn.ensemble import RandomForestClassifier\n",
        "    rf_simple = RandomForestClassifier()\n",
        "    grid_rf =  {'n_estimators': range(10,100,10),\n",
        "                   'max_depth': range(3,8)\n",
        "               }\n",
        "    from sklearn.model_selection import GridSearchCV\n",
        "    model_rf = GridSearchCV(rf_simple, param_grid = grid_rf,cv =10,n_jobs=-1)\n",
        "    model_rf.fit(xtrain, ytrain)\n",
        "    print(model_rf.best_params_)\n",
        "    para=model_rf.best_params_\n",
        "    best_model_rf=RandomForestClassifier(n_estimators=para['n_estimators'],\n",
        "                                         max_depth=para['max_depth'],\n",
        "                                        )\n",
        "    best_model_rf.fit(xtrain,ytrain)\n",
        "    return best_model_rf\n",
        "best_model_rf=RF(xtrain,ytrain)\n",
        "print(best_model_rf.score(xtrain,ytrain))\n",
        "print(best_model_rf.score(xtest,ytest))"
      ]
    },
    {
      "cell_type": "markdown",
      "id": "7d110f0e-7af7-4719-8776-9c42ef802711",
      "metadata": {
        "id": "7d110f0e-7af7-4719-8776-9c42ef802711"
      },
      "source": [
        "## Artificial nerual network"
      ]
    },
    {
      "cell_type": "code",
      "execution_count": null,
      "id": "960b715a",
      "metadata": {
        "tags": [],
        "id": "960b715a",
        "outputId": "426b2c32-2b59-4a4d-f5ac-2be553956b5f"
      },
      "outputs": [
        {
          "name": "stdout",
          "output_type": "stream",
          "text": [
            "Fitting 10 folds for each of 360 candidates, totalling 3600 fits\n",
            "{'activation': 'relu', 'hidden_layer_sizes': 10, 'learning_rate_init': 0.001, 'solver': 'adam'}\n",
            "0.849102377486657\n",
            "0.8482446206115515\n"
          ]
        }
      ],
      "source": [
        "def ANN(xtrain,ytrain):\n",
        "    from sklearn.neural_network import MLPClassifier\n",
        "    from sklearn.model_selection import GridSearchCV\n",
        "    param_grid_ann = {\"hidden_layer_sizes\": [(10),(20),(30),(40),(50),(60),(70),(80),(90),(100)],\n",
        "                      \"solver\": [\"lbfgs\", \"sgd\", \"adam\"],\n",
        "                      \"activation\":[\"identity\", \"logistic\", \"tanh\", \"relu\"],\n",
        "                      \"learning_rate_init\":[0.0001,0.001,0.1]}\n",
        "\n",
        "    mlp_simple=MLPClassifier()\n",
        "    model_mlp = GridSearchCV(mlp_simple,param_grid = param_grid_ann,cv =10,verbose=True,n_jobs=-1)\n",
        "    model_mlp.fit(xtrain, ytrain)\n",
        "    print(model_mlp.best_params_)\n",
        "    para=model_mlp.best_params_\n",
        "    best_model_mlp=MLPClassifier(hidden_layer_sizes=(para['hidden_layer_sizes']),\n",
        "                                 solver=para['solver'],\n",
        "                                 activation=para['activation'],\n",
        "                                 learning_rate_init=para['learning_rate_init'],\n",
        "                                 random_state=0\n",
        "                                )\n",
        "    best_model_mlp.fit(xtrain,ytrain)\n",
        "    return best_model_mlp\n",
        "best_model_mlp=ANN(xtrain,ytrain)\n",
        "print(best_model_mlp.score(xtrain,ytrain))\n",
        "print(best_model_mlp.score(xtest,ytest))"
      ]
    },
    {
      "cell_type": "markdown",
      "id": "265ebd19",
      "metadata": {
        "jp-MarkdownHeadingCollapsed": true,
        "id": "265ebd19"
      },
      "source": [
        "# Save machine learning models"
      ]
    },
    {
      "cell_type": "code",
      "execution_count": null,
      "id": "8899dbdb",
      "metadata": {
        "id": "8899dbdb"
      },
      "outputs": [],
      "source": [
        "import joblib\n",
        "joblib.dump(best_model_lr,r'lr_random.pkl')\n",
        "joblib.dump(best_model_rf,r'rf_random.pkl')\n",
        "joblib.dump(best_model_mlp,r'ann_random.pkl')"
      ]
    },
    {
      "cell_type": "markdown",
      "id": "1b72dc8e",
      "metadata": {
        "jp-MarkdownHeadingCollapsed": true,
        "id": "1b72dc8e"
      },
      "source": [
        "# Confusion matrix"
      ]
    },
    {
      "cell_type": "code",
      "execution_count": null,
      "id": "041f6613",
      "metadata": {
        "id": "041f6613"
      },
      "outputs": [],
      "source": [
        "from sklearn.metrics import confusion_matrix\n",
        "sns.set(font= \"Times new roman\",style=\"ticks\",font_scale=1.0,rc={\"font.size\":10})\n",
        "def confusion_matrix_plot(model,model_name,data_x,data_y):\n",
        "    fig,ax=plt.subplots(1,3,figsize=(9,2))\n",
        "    for i in range(3):\n",
        "        matrix_norain = confusion_matrix(data_y, model[i].predict(data_x))\n",
        "        group_names = ['TN', 'FP','FN', 'TP']\n",
        "        group_counts = ['{0:0.0f}'.format(value) for value in matrix_norain.flatten()]\n",
        "        group_percentages = ['{0:.2%}'.format(value) for value in matrix_norain.flatten()/np.sum(matrix_norain)]\n",
        "        labels = [f'{v1}\\n{v2}\\n{v3}' for v1, v2, v3 in zip(group_names, group_counts, group_percentages)]\n",
        "        labels = np.asarray(labels).reshape(2,2)\n",
        "\n",
        "        stats_rain = '\\n\\nAccuracy = {0:.2%}\\nError rate = {1:.2%}'.format((matrix_norain[0,0]+matrix_norain[1,1])/np.sum(matrix_norain)\n",
        "                                                                           ,(matrix_norain[0,1]+matrix_norain[1,0])/np.sum(matrix_norain))\n",
        "\n",
        "        sns.heatmap(matrix_norain, annot=labels, fmt='', cbar=False, cmap='RdBu',ax=ax[i],\n",
        "                   annot_kws={'fontname':'Times new roman'\n",
        "#                               ,'fontweight':'bold'\n",
        "                             })\n",
        "        ax[i].set_title(model_name[i])\n",
        "        ax[i].set_ylabel('True label')\n",
        "#         ax[i].set_xlabel('Predicted label')\n",
        "        ax[i].set_xlabel('Predicted label' + stats_rain,fontsize=10)\n",
        "    plt.subplots_adjust(wspace=0.8)\n",
        "#     plt.tight_layout()\n",
        "    plt.show()\n",
        "    return fig\n",
        "model=[best_model_lr,best_model_rf,best_model_mlp]\n",
        "model_name=['LR','RF','ANN']"
      ]
    },
    {
      "cell_type": "code",
      "execution_count": null,
      "id": "a08fa8c3",
      "metadata": {
        "id": "a08fa8c3",
        "outputId": "6853c88c-1456-4d33-b54a-98e7998845d7"
      },
      "outputs": [
        {
          "data": {
            "image/png": "[encoded data removed]",
            "text/plain": [
              "<Figure size 900x200 with 3 Axes>"
            ]
          },
          "metadata": {},
          "output_type": "display_data"
        }
      ],
      "source": [
        "fig2=confusion_matrix_plot(model,model_name,xtest,ytest)"
      ]
    },
    {
      "cell_type": "code",
      "execution_count": null,
      "id": "67b7d74f",
      "metadata": {
        "id": "67b7d74f"
      },
      "outputs": [],
      "source": [
        "fig2.savefig(r'Test_confusion_matrix_random.png',dpi=300,bbox_inches='tight')"
      ]
    },
    {
      "cell_type": "markdown",
      "id": "fb37eb22",
      "metadata": {
        "jp-MarkdownHeadingCollapsed": true,
        "id": "fb37eb22"
      },
      "source": [
        "# ROC curve of the test set"
      ]
    },
    {
      "cell_type": "code",
      "execution_count": null,
      "id": "961b81f3",
      "metadata": {
        "id": "961b81f3",
        "outputId": "aded4bdd-8a3c-4b94-f2c2-c51bc401e573"
      },
      "outputs": [
        {
          "data": {
            "image/png": "[encoded data removed]",
            "text/plain": [
              "<Figure size 600x600 with 1 Axes>"
            ]
          },
          "metadata": {},
          "output_type": "display_data"
        }
      ],
      "source": [
        "def auc_calc(x_data,y_data,model):\n",
        "    pred_prob_rf=model.predict_proba(x_data)[:,1]\n",
        "    fpr1, tpr1, threshold1 = roc_curve(y_data, pred_prob_rf, pos_label=1)\n",
        "    roc_auc1 = auc(fpr1, tpr1)\n",
        "    return fpr1,tpr1,roc_auc1\n",
        "fpr1,tpr1,roc_auc1=auc_calc(xtest,ytest,best_model_rf)\n",
        "fpr3,tpr3,roc_auc3=auc_calc(xtest,ytest,best_model_mlp)\n",
        "fpr4,tpr4,roc_auc4=auc_calc(xtest,ytest,best_model_lr)\n",
        "X_data=[fpr1,fpr3,fpr4]\n",
        "Y_data=[tpr1,tpr3,tpr4]\n",
        "\n",
        "from sklearn.metrics import roc_auc_score, roc_curve, auc\n",
        "color_line=['r','b','g']\n",
        "auc_value=[roc_auc1,roc_auc3,roc_auc4]\n",
        "label_text=['RF','ANN','LR']\n",
        "f, ax = plt.subplots(figsize=(6,6))\n",
        "for i in range(3):\n",
        "    plt.plot(X_data[i],Y_data[i], color =color_line[i], lw=2\n",
        "             ,label= label_text[i] + ' AUC: {:.3f}'.format(auc_value[i]))\n",
        "fr_roc=pd.read_excel(r'D:\\LSM_script\\LSM_ML\\ROC_curve\\ROC.xlsx',sheet_name=0)\n",
        "plt.plot(fr_roc.iloc[:,0],fr_roc.iloc[:,1],'-k',label='FR AUC=0.902')\n",
        "plt.plot([0, 1], [0, 1],\n",
        "         linestyle = '--',\n",
        "         color = (0.6, 0.6, 0.6),\n",
        "         label = 'Random guessing')\n",
        "plt.plot([0, 0, 1], [0, 1, 1],\n",
        "         linestyle = ':',\n",
        "         color = 'black',\n",
        "         label = 'Perfect performance')\n",
        "plt.xlim([-.05, 1.0])\n",
        "plt.ylim([-.05, 1.05])\n",
        "plt.xlabel('False Positive Rate')\n",
        "plt.ylabel('True Positive Rate')\n",
        "plt.legend(loc=\"lower right\")\n",
        "plt.show()"
      ]
    },
    {
      "cell_type": "code",
      "execution_count": null,
      "id": "bcfba0a5",
      "metadata": {
        "id": "bcfba0a5"
      },
      "outputs": [],
      "source": [
        "f.savefig(r'Test_fr_roc_random.png',dpi=300,bbox_inches='tight')"
      ]
    }
  ],
  "metadata": {
    "kernelspec": {
      "display_name": "Python 3 (ipykernel)",
      "language": "python",
      "name": "python3"
    },
    "language_info": {
      "codemirror_mode": {
        "name": "ipython",
        "version": 3
      },
      "file_extension": ".py",
      "mimetype": "text/x-python",
      "name": "python",
      "nbconvert_exporter": "python",
      "pygments_lexer": "ipython3",
      "version": "3.11.7"
    },
    "toc": {
      "base_numbering": 1,
      "nav_menu": {},
      "number_sections": true,
      "sideBar": true,
      "skip_h1_title": false,
      "title_cell": "Table of Contents",
      "title_sidebar": "Contents",
      "toc_cell": false,
      "toc_position": {
        "height": "calc(100% - 180px)",
        "left": "10px",
        "top": "150px",
        "width": "185.764px"
      },
      "toc_section_display": true,
      "toc_window_display": true
    },
    "varInspector": {
      "cols": {
        "lenName": 16,
        "lenType": 16,
        "lenVar": 40
      },
      "kernels_config": {
        "python": {
          "delete_cmd_postfix": "",
          "delete_cmd_prefix": "del ",
          "library": "var_list.py",
          "varRefreshCmd": "print(var_dic_list())"
        },
        "r": {
          "delete_cmd_postfix": ") ",
          "delete_cmd_prefix": "rm(",
          "library": "var_list.r",
          "varRefreshCmd": "cat(var_dic_list()) "
        }
      },
      "position": {
        "height": "444.847px",
        "left": "1484.44px",
        "right": "20px",
        "top": "120px",
        "width": "202.222px"
      },
      "types_to_exclude": [
        "module",
        "function",
        "builtin_function_or_method",
        "instance",
        "_Feature"
      ],
      "window_display": false
    },
    "colab": {
      "provenance": [],
      "include_colab_link": true
    }
  },
  "nbformat": 4,
  "nbformat_minor": 5
}